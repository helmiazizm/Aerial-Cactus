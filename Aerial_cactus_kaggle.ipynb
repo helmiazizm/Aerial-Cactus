{
  "cells": [
    {
      "cell_type": "markdown",
      "metadata": {
        "id": "FVpm5AiVj5Mr"
      },
      "source": [
        "**1. Mengunduh dataset dari Kaggle**\n",
        "\n",
        "(Khusus jika dijalankan dengan Google Colab) Sebelum menjalankan perintah di bawah, pastikan API token `kaggle.json` anda telah diunggah ke folder `content` di Google Colab.\n",
        "\n",
        "Jika ingin dijalankan di local computer, tidak perlu menjalankan perintah di bawah. Dataset dapat diunduh secara manual dari [Aerial Cactus Identification](https://www.kaggle.com/c/aerial-cactus-identification/data) di Kaggle.\n"
      ]
    },
    {
      "cell_type": "markdown",
      "metadata": {
        "id": "FrofB4r1lVpA"
      },
      "source": [
        "**2. Mengimpor *library* yang diperlukan**\n",
        "\n",
        "Setidaknya untuk pemodelan ini diperlukan *library* `PIL`, `zipfile`, `os`, `pandas`, `matplotlib`, `sklearn`, dan yang paling utama yaitu torch dan `torchvision`.\n",
        "\n"
      ]
    },
    {
      "cell_type": "code",
      "execution_count": 2,
      "metadata": {
        "id": "A-U_qo2HT6VA"
      },
      "outputs": [],
      "source": [
        "import PIL\n",
        "import torch\n",
        "import torch.nn as nn\n",
        "import torch.nn.functional as F\n",
        "import torch.optim as optim\n",
        "from torch.utils.data import DataLoader, Dataset\n",
        "import torchvision.transforms as transforms\n",
        "import zipfile\n",
        "import os\n",
        "import pandas as pd\n",
        "import matplotlib.pyplot as plt\n",
        "import matplotlib.image as mpimg\n",
        "from sklearn.model_selection import train_test_split"
      ]
    },
    {
      "cell_type": "code",
      "execution_count": 3,
      "metadata": {
        "id": "SyShU7d-NQhF"
      },
      "outputs": [],
      "source": [
        "#Untuk mengatasi cuda runtime error (59), jalankan ini.\n",
        "os.environ['CUDA_LAUNCH_BLOCKING'] = \"1\""
      ]
    },
    {
      "cell_type": "markdown",
      "metadata": {
        "id": "UrWebAnJmUEh"
      },
      "source": [
        "**3. Mempersiapkan data**\n",
        "\n",
        "Dataset yang telah diunduh kemudian dibuka, dibedah isinya menggunakan EDA sederhana, lalu untuk dataset dari `train.zip` dipisah *label*-nya menjadi dataset untuk pelatihan dan validasi menggunakan `sklearn` dengan rasio 4:1. Selanjutnya seluruh dataset yang awalnya berupa gambar diubah menjadi tensor, diselaraskan dengan setiap label yang tepat, kemudian dipersiapkan menggunakan `DataLoader` dengan tiap-tiap datanya dikelompokkan menjadi beberapa *batch* dengan ukuran tertentu. "
      ]
    },
    {
      "cell_type": "code",
      "execution_count": 9,
      "metadata": {
        "colab": {
          "base_uri": "https://localhost:8080/"
        },
        "id": "bMimnMR5ZvJF",
        "outputId": "ddf36314-4498-48d4-8943-6a02b491a9b2"
      },
      "outputs": [
        {
          "name": "stdout",
          "output_type": "stream",
          "text": [
            "d:\\Kaggle Stuff\\Aerial Cactus/aerial-cactus-identification/kaggle/test\\000940378805c44108d287872b2f04ce.jpg\n",
            "d:\\Kaggle Stuff\\Aerial Cactus/aerial-cactus-identification/kaggle/test\\0017242f54ececa4512b4d7937d1e21e.jpg\n",
            "d:\\Kaggle Stuff\\Aerial Cactus/aerial-cactus-identification/kaggle/test\\001ee6d8564003107853118ab87df407.jpg\n",
            "d:\\Kaggle Stuff\\Aerial Cactus/aerial-cactus-identification/kaggle/test\\002e175c3c1e060769475f52182583d0.jpg\n",
            "d:\\Kaggle Stuff\\Aerial Cactus/aerial-cactus-identification/kaggle/test\\0036e44a7e8f7218e9bc7bf8137e4943.jpg\n",
            "d:\\Kaggle Stuff\\Aerial Cactus/aerial-cactus-identification/kaggle/train\\0004be2cfeaba1c0361d39e2b000257b.jpg\n",
            "d:\\Kaggle Stuff\\Aerial Cactus/aerial-cactus-identification/kaggle/train\\000c8a36845c0208e833c79c1bffedd1.jpg\n",
            "d:\\Kaggle Stuff\\Aerial Cactus/aerial-cactus-identification/kaggle/train\\000d1e9a533f62e55c289303b072733d.jpg\n",
            "d:\\Kaggle Stuff\\Aerial Cactus/aerial-cactus-identification/kaggle/train\\0011485b40695e9138e92d0b3fb55128.jpg\n",
            "d:\\Kaggle Stuff\\Aerial Cactus/aerial-cactus-identification/kaggle/train\\0014d7a11e90b62848904c1418fc8cf2.jpg\n"
          ]
        }
      ],
      "source": [
        "cwd = os.getcwd()\n",
        "\n",
        "train_zip = cwd+'/aerial-cactus-identification/train.zip'\n",
        "with zipfile.ZipFile(train_zip, 'r') as zip_ref:\n",
        "    zip_ref.extractall(cwd+'/aerial-cactus-identification/kaggle/')\n",
        "\n",
        "test_zip = cwd+'/aerial-cactus-identification/test.zip'\n",
        "with zipfile.ZipFile(test_zip, 'r') as zip_ref:\n",
        "    zip_ref.extractall(cwd+'/aerial-cactus-identification/kaggle/')\n",
        "    \n",
        "for dirname, _, filenames in os.walk(cwd+'/aerial-cactus-identification/kaggle/'):\n",
        "    for filename in filenames[:5]:\n",
        "        print(os.path.join(dirname, filename))"
      ]
    },
    {
      "cell_type": "code",
      "execution_count": 12,
      "metadata": {
        "colab": {
          "base_uri": "https://localhost:8080/",
          "height": 482
        },
        "id": "eLn6dxNTco9F",
        "outputId": "e2b914e1-619c-43cb-a4a6-a8e1e42f581e"
      },
      "outputs": [
        {
          "data": {
            "image/png": "[encoded data removed]",
            "text/plain": [
              "<Figure size 576x576 with 1 Axes>"
            ]
          },
          "metadata": {},
          "output_type": "display_data"
        }
      ],
      "source": [
        "train_label = pd.read_csv(cwd+'/aerial-cactus-identification/train.csv')\n",
        "\n",
        "label = 'Without cactus', 'With cactus'\n",
        "plt.figure(figsize = (8,8))\n",
        "plt.title('Сlass Distribution for Training Labels')\n",
        "plt.pie(train_label.groupby('has_cactus').size(), labels = label, autopct='%1.1f%%')\n",
        "plt.show()"
      ]
    },
    {
      "cell_type": "code",
      "execution_count": 13,
      "metadata": {
        "colab": {
          "base_uri": "https://localhost:8080/",
          "height": 206
        },
        "id": "kDPMFCbK3P05",
        "outputId": "85e4d4b9-8063-4d10-a77c-6e4439311625"
      },
      "outputs": [
        {
          "data": {
            "text/html": [
              "<div>\n",
              "<style scoped>\n",
              "    .dataframe tbody tr th:only-of-type {\n",
              "        vertical-align: middle;\n",
              "    }\n",
              "\n",
              "    .dataframe tbody tr th {\n",
              "        vertical-align: top;\n",
              "    }\n",
              "\n",
              "    .dataframe thead th {\n",
              "        text-align: right;\n",
              "    }\n",
              "</style>\n",
              "<table border=\"1\" class=\"dataframe\">\n",
              "  <thead>\n",
              "    <tr style=\"text-align: right;\">\n",
              "      <th></th>\n",
              "      <th>id</th>\n",
              "      <th>has_cactus</th>\n",
              "    </tr>\n",
              "  </thead>\n",
              "  <tbody>\n",
              "    <tr>\n",
              "      <th>0</th>\n",
              "      <td>0004be2cfeaba1c0361d39e2b000257b.jpg</td>\n",
              "      <td>1</td>\n",
              "    </tr>\n",
              "    <tr>\n",
              "      <th>1</th>\n",
              "      <td>000c8a36845c0208e833c79c1bffedd1.jpg</td>\n",
              "      <td>1</td>\n",
              "    </tr>\n",
              "    <tr>\n",
              "      <th>2</th>\n",
              "      <td>000d1e9a533f62e55c289303b072733d.jpg</td>\n",
              "      <td>1</td>\n",
              "    </tr>\n",
              "    <tr>\n",
              "      <th>3</th>\n",
              "      <td>0011485b40695e9138e92d0b3fb55128.jpg</td>\n",
              "      <td>1</td>\n",
              "    </tr>\n",
              "    <tr>\n",
              "      <th>4</th>\n",
              "      <td>0014d7a11e90b62848904c1418fc8cf2.jpg</td>\n",
              "      <td>1</td>\n",
              "    </tr>\n",
              "  </tbody>\n",
              "</table>\n",
              "</div>"
            ],
            "text/plain": [
              "                                     id  has_cactus\n",
              "0  0004be2cfeaba1c0361d39e2b000257b.jpg           1\n",
              "1  000c8a36845c0208e833c79c1bffedd1.jpg           1\n",
              "2  000d1e9a533f62e55c289303b072733d.jpg           1\n",
              "3  0011485b40695e9138e92d0b3fb55128.jpg           1\n",
              "4  0014d7a11e90b62848904c1418fc8cf2.jpg           1"
            ]
          },
          "execution_count": 13,
          "metadata": {},
          "output_type": "execute_result"
        }
      ],
      "source": [
        "train_label.head()"
      ]
    },
    {
      "cell_type": "code",
      "execution_count": 14,
      "metadata": {
        "colab": {
          "base_uri": "https://localhost:8080/",
          "height": 206
        },
        "id": "orxrZ1kzsGPB",
        "outputId": "a11c2fad-b7ec-4c1c-f7a7-7aaf103fc4c0"
      },
      "outputs": [
        {
          "data": {
            "text/html": [
              "<div>\n",
              "<style scoped>\n",
              "    .dataframe tbody tr th:only-of-type {\n",
              "        vertical-align: middle;\n",
              "    }\n",
              "\n",
              "    .dataframe tbody tr th {\n",
              "        vertical-align: top;\n",
              "    }\n",
              "\n",
              "    .dataframe thead th {\n",
              "        text-align: right;\n",
              "    }\n",
              "</style>\n",
              "<table border=\"1\" class=\"dataframe\">\n",
              "  <thead>\n",
              "    <tr style=\"text-align: right;\">\n",
              "      <th></th>\n",
              "      <th>id</th>\n",
              "      <th>has_cactus</th>\n",
              "    </tr>\n",
              "  </thead>\n",
              "  <tbody>\n",
              "    <tr>\n",
              "      <th>0</th>\n",
              "      <td>000940378805c44108d287872b2f04ce.jpg</td>\n",
              "      <td>0.5</td>\n",
              "    </tr>\n",
              "    <tr>\n",
              "      <th>1</th>\n",
              "      <td>0017242f54ececa4512b4d7937d1e21e.jpg</td>\n",
              "      <td>0.5</td>\n",
              "    </tr>\n",
              "    <tr>\n",
              "      <th>2</th>\n",
              "      <td>001ee6d8564003107853118ab87df407.jpg</td>\n",
              "      <td>0.5</td>\n",
              "    </tr>\n",
              "    <tr>\n",
              "      <th>3</th>\n",
              "      <td>002e175c3c1e060769475f52182583d0.jpg</td>\n",
              "      <td>0.5</td>\n",
              "    </tr>\n",
              "    <tr>\n",
              "      <th>4</th>\n",
              "      <td>0036e44a7e8f7218e9bc7bf8137e4943.jpg</td>\n",
              "      <td>0.5</td>\n",
              "    </tr>\n",
              "  </tbody>\n",
              "</table>\n",
              "</div>"
            ],
            "text/plain": [
              "                                     id  has_cactus\n",
              "0  000940378805c44108d287872b2f04ce.jpg         0.5\n",
              "1  0017242f54ececa4512b4d7937d1e21e.jpg         0.5\n",
              "2  001ee6d8564003107853118ab87df407.jpg         0.5\n",
              "3  002e175c3c1e060769475f52182583d0.jpg         0.5\n",
              "4  0036e44a7e8f7218e9bc7bf8137e4943.jpg         0.5"
            ]
          },
          "execution_count": 14,
          "metadata": {},
          "output_type": "execute_result"
        }
      ],
      "source": [
        "test_label = pd.read_csv(cwd+'/aerial-cactus-identification/sample_submission.csv')\n",
        "test_label.head()"
      ]
    },
    {
      "cell_type": "code",
      "execution_count": 15,
      "metadata": {
        "id": "w82iniv25BGz"
      },
      "outputs": [],
      "source": [
        "training_path = cwd+'/aerial-cactus-identification/kaggle/train'\n",
        "test_path = cwd+'/aerial-cactus-identification/kaggle/test'"
      ]
    },
    {
      "cell_type": "code",
      "execution_count": 16,
      "metadata": {
        "id": "vNfEb_gLWIbf"
      },
      "outputs": [],
      "source": [
        "training_label, validation_label = train_test_split(train_label, \n",
        "                                test_size=0.2,\n",
        "                                stratify=train_label['has_cactus'],\n",
        "                                random_state=10)"
      ]
    },
    {
      "cell_type": "code",
      "execution_count": 17,
      "metadata": {
        "colab": {
          "base_uri": "https://localhost:8080/"
        },
        "id": "hjssN56RLvxO",
        "outputId": "95b896ce-65db-40ad-c60e-5cbb47d3496b"
      },
      "outputs": [
        {
          "name": "stdout",
          "output_type": "stream",
          "text": [
            "There are 21500 many images in all folders\n",
            "There are 14000 many images to train with\n",
            "There are 3500 many images to do validation testing with\n",
            "There are 4000 many images to test with\n"
          ]
        }
      ],
      "source": [
        "train_size = len(training_label)\n",
        "valid_size = len(validation_label)\n",
        "test_size = len(os.listdir(test_path))\n",
        "\n",
        "print('There are {} many images in all folders'.format(len(os.listdir(training_path))+test_size))\n",
        "print('There are {} many images to train with'.format(train_size))\n",
        "print('There are {} many images to do validation testing with'.format(valid_size))\n",
        "print('There are {} many images to test with'.format(test_size))"
      ]
    },
    {
      "cell_type": "code",
      "execution_count": 18,
      "metadata": {
        "id": "us0VAhUNwH1m"
      },
      "outputs": [],
      "source": [
        "class CactusDataset(Dataset):\n",
        "    def __init__(self,labels,folder,transform=None):\n",
        "        super().__init__()\n",
        "        self.labels=labels.values\n",
        "        self.folder=folder\n",
        "        self.transform=transform\n",
        "        \n",
        "    def __len__(self):\n",
        "        return len(self.labels)\n",
        "    \n",
        "    def __getitem__ (self,index):\n",
        "        image_name,label=self.labels[index]\n",
        "        image_path=os.path.join(self.folder,image_name)\n",
        "        image=PIL.Image.open(image_path).convert('RGB')\n",
        "        if self.transform is not None:\n",
        "            image=self.transform(image)\n",
        "        return image,label"
      ]
    },
    {
      "cell_type": "code",
      "execution_count": 19,
      "metadata": {
        "id": "ox7nGtP5wLIr"
      },
      "outputs": [],
      "source": [
        "batch_size = 512\n",
        "transform = transforms.Compose([transforms.ToTensor()])\n",
        "\n",
        "train_dataset = CactusDataset(labels=training_label, folder=training_path, transform=transform)\n",
        "train_loader = DataLoader(dataset = train_dataset, batch_size = batch_size, shuffle=True, num_workers=0)\n",
        "valid_dataset = CactusDataset(labels=validation_label, folder=training_path, transform=transform)\n",
        "valid_loader = DataLoader(dataset = valid_dataset, batch_size = batch_size, shuffle=True, num_workers=0)\n",
        "test_dataset = CactusDataset(labels=test_label, folder=test_path, transform=transform)\n",
        "test_loader = DataLoader(dataset = test_dataset, batch_size = batch_size, shuffle=False, num_workers=0)"
      ]
    },
    {
      "cell_type": "markdown",
      "metadata": {
        "id": "Er-wDSgBnsCc"
      },
      "source": [
        "**4. Perancangan arsitektur *convolutional neural network* (CNN) serta penentuan metode optimisasi dan *loss function***\n",
        "\n",
        "Untuk kasus ini, digunakan *convolutional neural network* dengan empat kali konvolusi. Metode optimisasi yang digunakan adalah *Adam* dengan *learning rate* $0.001$ dan *loss function* yang dipilih adalah *binary crossentropy*."
      ]
    },
    {
      "cell_type": "code",
      "execution_count": 20,
      "metadata": {
        "id": "pr1Jethv1bUK"
      },
      "outputs": [],
      "source": [
        "class SimpleCNN(nn.Module): \n",
        "    def __init__(self):\n",
        "        super(SimpleCNN, self).__init__()\n",
        "        self.conv1 = nn.Conv2d(in_channels = 3, out_channels = 16, kernel_size = 3, padding = 1)\n",
        "        self.conv2 = nn.Conv2d(in_channels = 16, out_channels = 32, kernel_size = 3, padding = 1)\n",
        "        self.conv3 = nn.Conv2d(in_channels = 32, out_channels = 64, kernel_size = 3, padding = 1)\n",
        "        self.conv4 = nn.Conv2d(in_channels = 64, out_channels = 512, kernel_size = 3, padding = 1)\n",
        "        self.pool = nn.MaxPool2d(kernel_size = (2, 2)) \n",
        "        self.fc1 = nn.Linear(2048, 128)\n",
        "        self.fc2 = nn.Linear(128, 1)\n",
        "\n",
        "    def forward(self, x):\n",
        "        x = self.pool(F.relu(self.conv1(x)))\n",
        "        x = self.pool(F.relu(self.conv2(x)))\n",
        "        x = self.pool(F.relu(self.conv3(x)))\n",
        "        x = self.pool(F.relu(self.conv4(x)))\n",
        "        x = torch.flatten(x, 1)\n",
        "        x = torch.relu(self.fc1(x))\n",
        "        x = torch.sigmoid(self.fc2(x))\n",
        "        return x"
      ]
    },
    {
      "cell_type": "code",
      "execution_count": 21,
      "metadata": {
        "colab": {
          "base_uri": "https://localhost:8080/"
        },
        "id": "6nngF1A82VGZ",
        "outputId": "84d421ce-8c8c-4cd8-fdbe-e6a1f8629be8"
      },
      "outputs": [
        {
          "name": "stdout",
          "output_type": "stream",
          "text": [
            "SimpleCNN(\n",
            "  (conv1): Conv2d(3, 16, kernel_size=(3, 3), stride=(1, 1), padding=(1, 1))\n",
            "  (conv2): Conv2d(16, 32, kernel_size=(3, 3), stride=(1, 1), padding=(1, 1))\n",
            "  (conv3): Conv2d(32, 64, kernel_size=(3, 3), stride=(1, 1), padding=(1, 1))\n",
            "  (conv4): Conv2d(64, 512, kernel_size=(3, 3), stride=(1, 1), padding=(1, 1))\n",
            "  (pool): MaxPool2d(kernel_size=(2, 2), stride=(2, 2), padding=0, dilation=1, ceil_mode=False)\n",
            "  (fc1): Linear(in_features=2048, out_features=128, bias=True)\n",
            "  (fc2): Linear(in_features=128, out_features=1, bias=True)\n",
            ")\n"
          ]
        }
      ],
      "source": [
        "model = SimpleCNN()\n",
        "print(model)"
      ]
    },
    {
      "cell_type": "markdown",
      "metadata": {
        "id": "pPqFRRmHqk_r"
      },
      "source": [
        "Pelatihan dapat dibantu dengan GPU NVidia CUDA atau murni menggunakan CPU. Perintah berikut digunakan untuk mengaktivasi GPU supaya dapat mempercepat pelatihan."
      ]
    },
    {
      "cell_type": "code",
      "execution_count": 22,
      "metadata": {
        "colab": {
          "base_uri": "https://localhost:8080/"
        },
        "id": "D-St5DxB5_j2",
        "outputId": "a072d9a6-cc0f-4a18-dfe7-6a652a753b13"
      },
      "outputs": [
        {
          "data": {
            "text/plain": [
              "device(type='cpu')"
            ]
          },
          "execution_count": 22,
          "metadata": {},
          "output_type": "execute_result"
        }
      ],
      "source": [
        "device = torch.device(\"cuda\" if torch.cuda.is_available() else \"cpu\")\n",
        "#device = torch.device(\"cpu\")\n",
        "device"
      ]
    },
    {
      "cell_type": "code",
      "execution_count": 23,
      "metadata": {
        "id": "HatmAl6ErXAJ"
      },
      "outputs": [],
      "source": [
        "net = SimpleCNN().to(device)\n",
        "optimizer = optim.Adam(net.parameters(), lr=0.001)\n",
        "criterion = nn.BCELoss()"
      ]
    },
    {
      "cell_type": "markdown",
      "metadata": {
        "id": "OloG_TKLrGUc"
      },
      "source": [
        "**5. Pelatihan *neural network***\n",
        "\n",
        "Perintah di bawah digunakan untuk melatih *neural network* yang telah dibentuk sebelumnya sebanyak $100$ kali pelatihan untuk mendapatkan bobot yang sesuai. Tetapi untuk berjaga-jaga, ditetapkan *early stopping* yang aktif ketika akurasi pelatihan dan akurasi validasi mencapai lebih dari $0.99$."
      ]
    },
    {
      "cell_type": "code",
      "execution_count": 24,
      "metadata": {
        "colab": {
          "base_uri": "https://localhost:8080/"
        },
        "id": "KockbIiF2nt5",
        "outputId": "4896935c-2bdc-4f2f-ce10-764f1af3febb"
      },
      "outputs": [
        {
          "name": "stdout",
          "output_type": "stream",
          "text": [
            "Start training\n",
            "\n",
            "Epoch 1/100\n",
            "[Training]   Loss     : 0.5514, Accuracy     : 0.7319, Precision     : 0.7504, Recall     : 0.9632, F1 Score     : 0.8436\n",
            "[Validation] Val Loss : 0.4512, Val Accuracy : 0.7506, Val Precision : 0.7506, Val Recall : 1.0000, Val F1 Score : 0.8575\n",
            "\n",
            "Epoch 2/100\n",
            "[Training]   Loss     : 0.3227, Accuracy     : 0.8597, Precision     : 0.8502, Recall     : 0.9871, F1 Score     : 0.9135\n",
            "[Validation] Val Loss : 0.3142, Val Accuracy : 0.8737, Val Precision : 0.9858, Val Recall : 0.8439, Val F1 Score : 0.9094\n",
            "\n",
            "Epoch 3/100\n",
            "[Training]   Loss     : 0.2011, Accuracy     : 0.9244, Precision     : 0.9439, Recall     : 0.9560, F1 Score     : 0.9499\n",
            "[Validation] Val Loss : 0.1568, Val Accuracy : 0.9380, Val Precision : 0.9446, Val Recall : 0.9745, Val F1 Score : 0.9593\n",
            "\n",
            "Epoch 4/100\n",
            "[Training]   Loss     : 0.1679, Accuracy     : 0.9349, Precision     : 0.9532, Recall     : 0.9605, F1 Score     : 0.9568\n",
            "[Validation] Val Loss : 0.1581, Val Accuracy : 0.9357, Val Precision : 0.9785, Val Recall : 0.9349, Val F1 Score : 0.9562\n",
            "\n",
            "Epoch 5/100\n",
            "[Training]   Loss     : 0.1474, Accuracy     : 0.9437, Precision     : 0.9605, Recall     : 0.9647, F1 Score     : 0.9626\n",
            "[Validation] Val Loss : 0.1389, Val Accuracy : 0.9463, Val Precision : 0.9792, Val Recall : 0.9486, Val F1 Score : 0.9637\n",
            "\n",
            "Epoch 6/100\n",
            "[Training]   Loss     : 0.1246, Accuracy     : 0.9546, Precision     : 0.9678, Recall     : 0.9718, F1 Score     : 0.9698\n",
            "[Validation] Val Loss : 0.1179, Val Accuracy : 0.9540, Val Precision : 0.9847, Val Recall : 0.9536, Val F1 Score : 0.9689\n",
            "\n",
            "Epoch 7/100\n",
            "[Training]   Loss     : 0.1285, Accuracy     : 0.9507, Precision     : 0.9653, Recall     : 0.9692, F1 Score     : 0.9672\n",
            "[Validation] Val Loss : 0.1223, Val Accuracy : 0.9520, Val Precision : 0.9920, Val Recall : 0.9437, Val F1 Score : 0.9672\n",
            "\n",
            "Epoch 8/100\n",
            "[Training]   Loss     : 0.0997, Accuracy     : 0.9624, Precision     : 0.9742, Recall     : 0.9758, F1 Score     : 0.9750\n",
            "[Validation] Val Loss : 0.0872, Val Accuracy : 0.9643, Val Precision : 0.9808, Val Recall : 0.9715, Val F1 Score : 0.9761\n",
            "\n",
            "Epoch 9/100\n",
            "[Training]   Loss     : 0.0902, Accuracy     : 0.9666, Precision     : 0.9776, Recall     : 0.9779, F1 Score     : 0.9778\n",
            "[Validation] Val Loss : 0.0765, Val Accuracy : 0.9703, Val Precision : 0.9806, Val Recall : 0.9798, Val F1 Score : 0.9802\n",
            "\n",
            "Epoch 10/100\n",
            "[Training]   Loss     : 0.0828, Accuracy     : 0.9692, Precision     : 0.9798, Recall     : 0.9792, F1 Score     : 0.9795\n",
            "[Validation] Val Loss : 0.0703, Val Accuracy : 0.9723, Val Precision : 0.9850, Val Recall : 0.9779, Val F1 Score : 0.9815\n",
            "\n",
            "Epoch 11/100\n",
            "[Training]   Loss     : 0.0753, Accuracy     : 0.9724, Precision     : 0.9817, Recall     : 0.9814, F1 Score     : 0.9816\n",
            "[Validation] Val Loss : 0.0866, Val Accuracy : 0.9674, Val Precision : 0.9953, Val Recall : 0.9612, Val F1 Score : 0.9779\n",
            "\n",
            "Epoch 12/100\n",
            "[Training]   Loss     : 0.0726, Accuracy     : 0.9734, Precision     : 0.9835, Recall     : 0.9811, F1 Score     : 0.9823\n",
            "[Validation] Val Loss : 0.0850, Val Accuracy : 0.9666, Val Precision : 0.9628, Val Recall : 0.9939, Val F1 Score : 0.9781\n",
            "\n",
            "Epoch 13/100\n",
            "[Training]   Loss     : 0.0863, Accuracy     : 0.9676, Precision     : 0.9782, Recall     : 0.9786, F1 Score     : 0.9784\n",
            "[Validation] Val Loss : 0.0859, Val Accuracy : 0.9663, Val Precision : 0.9949, Val Recall : 0.9600, Val F1 Score : 0.9771\n",
            "\n",
            "Epoch 14/100\n",
            "[Training]   Loss     : 0.0646, Accuracy     : 0.9776, Precision     : 0.9860, Recall     : 0.9841, F1 Score     : 0.9850\n",
            "[Validation] Val Loss : 0.0580, Val Accuracy : 0.9757, Val Precision : 0.9892, Val Recall : 0.9783, Val F1 Score : 0.9837\n",
            "\n",
            "Epoch 15/100\n",
            "[Training]   Loss     : 0.0591, Accuracy     : 0.9781, Precision     : 0.9871, Recall     : 0.9837, F1 Score     : 0.9854\n",
            "[Validation] Val Loss : 0.0531, Val Accuracy : 0.9783, Val Precision : 0.9863, Val Recall : 0.9848, Val F1 Score : 0.9855\n",
            "\n",
            "Epoch 16/100\n",
            "[Training]   Loss     : 0.0747, Accuracy     : 0.9724, Precision     : 0.9829, Recall     : 0.9802, F1 Score     : 0.9816\n",
            "[Validation] Val Loss : 0.1009, Val Accuracy : 0.9623, Val Precision : 0.9541, Val Recall : 0.9977, Val F1 Score : 0.9754\n",
            "\n",
            "Epoch 17/100\n",
            "[Training]   Loss     : 0.0672, Accuracy     : 0.9768, Precision     : 0.9850, Recall     : 0.9840, F1 Score     : 0.9845\n",
            "[Validation] Val Loss : 0.0563, Val Accuracy : 0.9786, Val Precision : 0.9919, Val Recall : 0.9794, Val F1 Score : 0.9856\n",
            "\n",
            "Epoch 18/100\n",
            "[Training]   Loss     : 0.0550, Accuracy     : 0.9796, Precision     : 0.9873, Recall     : 0.9854, F1 Score     : 0.9864\n",
            "[Validation] Val Loss : 0.0474, Val Accuracy : 0.9820, Val Precision : 0.9871, Val Recall : 0.9890, Val F1 Score : 0.9880\n",
            "\n",
            "Epoch 19/100\n",
            "[Training]   Loss     : 0.0529, Accuracy     : 0.9807, Precision     : 0.9882, Recall     : 0.9861, F1 Score     : 0.9871\n",
            "[Validation] Val Loss : 0.0578, Val Accuracy : 0.9774, Val Precision : 0.9761, Val Recall : 0.9943, Val F1 Score : 0.9851\n",
            "\n",
            "Epoch 20/100\n",
            "[Training]   Loss     : 0.0448, Accuracy     : 0.9841, Precision     : 0.9893, Recall     : 0.9895, F1 Score     : 0.9894\n",
            "[Validation] Val Loss : 0.0668, Val Accuracy : 0.9740, Val Precision : 0.9976, Val Recall : 0.9676, Val F1 Score : 0.9824\n",
            "\n",
            "Epoch 21/100\n",
            "[Training]   Loss     : 0.0427, Accuracy     : 0.9848, Precision     : 0.9915, Recall     : 0.9882, F1 Score     : 0.9898\n",
            "[Validation] Val Loss : 0.0486, Val Accuracy : 0.9809, Val Precision : 0.9837, Val Recall : 0.9909, Val F1 Score : 0.9873\n",
            "\n",
            "Epoch 22/100\n",
            "[Training]   Loss     : 0.0413, Accuracy     : 0.9853, Precision     : 0.9913, Recall     : 0.9891, F1 Score     : 0.9902\n",
            "[Validation] Val Loss : 0.0841, Val Accuracy : 0.9660, Val Precision : 0.9984, Val Recall : 0.9562, Val F1 Score : 0.9769\n",
            "\n",
            "Epoch 23/100\n",
            "[Training]   Loss     : 0.0408, Accuracy     : 0.9863, Precision     : 0.9921, Recall     : 0.9896, F1 Score     : 0.9909\n",
            "[Validation] Val Loss : 0.0539, Val Accuracy : 0.9794, Val Precision : 0.9965, Val Recall : 0.9760, Val F1 Score : 0.9862\n",
            "\n",
            "Epoch 24/100\n",
            "[Training]   Loss     : 0.0373, Accuracy     : 0.9863, Precision     : 0.9922, Recall     : 0.9895, F1 Score     : 0.9909\n",
            "[Validation] Val Loss : 0.1343, Val Accuracy : 0.9451, Val Precision : 0.9328, Val Recall : 0.9989, Val F1 Score : 0.9647\n",
            "\n",
            "Epoch 25/100\n",
            "[Training]   Loss     : 0.0524, Accuracy     : 0.9804, Precision     : 0.9867, Recall     : 0.9872, F1 Score     : 0.9869\n",
            "[Validation] Val Loss : 0.0580, Val Accuracy : 0.9780, Val Precision : 0.9980, Val Recall : 0.9726, Val F1 Score : 0.9852\n",
            "\n",
            "Epoch 26/100\n",
            "[Training]   Loss     : 0.0312, Accuracy     : 0.9894, Precision     : 0.9945, Recall     : 0.9913, F1 Score     : 0.9929\n",
            "[Validation] Val Loss : 0.0335, Val Accuracy : 0.9891, Val Precision : 0.9943, Val Recall : 0.9912, Val F1 Score : 0.9928\n",
            "\n",
            "Epoch 27/100\n",
            "[Training]   Loss     : 0.0308, Accuracy     : 0.9895, Precision     : 0.9934, Recall     : 0.9926, F1 Score     : 0.9930\n",
            "[Validation] Val Loss : 0.0350, Val Accuracy : 0.9869, Val Precision : 0.9943, Val Recall : 0.9882, Val F1 Score : 0.9912\n",
            "\n",
            "Epoch 28/100\n",
            "[Training]   Loss     : 0.0259, Accuracy     : 0.9911, Precision     : 0.9944, Recall     : 0.9938, F1 Score     : 0.9941\n",
            "[Validation] Val Loss : 0.0715, Val Accuracy : 0.9723, Val Precision : 0.9988, Val Recall : 0.9642, Val F1 Score : 0.9812\n",
            "\n",
            "Epoch 29/100\n",
            "[Training]   Loss     : 0.0443, Accuracy     : 0.9834, Precision     : 0.9906, Recall     : 0.9872, F1 Score     : 0.9889\n",
            "[Validation] Val Loss : 0.0412, Val Accuracy : 0.9849, Val Precision : 0.9846, Val Recall : 0.9954, Val F1 Score : 0.9900\n",
            "\n",
            "Epoch 30/100\n",
            "[Training]   Loss     : 0.0292, Accuracy     : 0.9895, Precision     : 0.9930, Recall     : 0.9931, F1 Score     : 0.9930\n",
            "[Validation] Val Loss : 0.0317, Val Accuracy : 0.9894, Val Precision : 0.9947, Val Recall : 0.9912, Val F1 Score : 0.9929\n",
            "\n",
            "Epoch 31/100\n",
            "[Training]   Loss     : 0.0206, Accuracy     : 0.9929, Precision     : 0.9958, Recall     : 0.9948, F1 Score     : 0.9953\n",
            "[Validation] Val Loss : 0.0364, Val Accuracy : 0.9877, Val Precision : 0.9973, Val Recall : 0.9863, Val F1 Score : 0.9918\n",
            "\n",
            "Epoch 32/100\n",
            "[Training]   Loss     : 0.0190, Accuracy     : 0.9934, Precision     : 0.9961, Recall     : 0.9951, F1 Score     : 0.9956\n",
            "[Validation] Val Loss : 0.0309, Val Accuracy : 0.9897, Val Precision : 0.9928, Val Recall : 0.9935, Val F1 Score : 0.9932\n",
            "\n",
            "Epoch 33/100\n",
            "[Training]   Loss     : 0.0184, Accuracy     : 0.9939, Precision     : 0.9965, Recall     : 0.9954, F1 Score     : 0.9960\n",
            "[Validation] Val Loss : 0.0340, Val Accuracy : 0.9880, Val Precision : 0.9973, Val Recall : 0.9867, Val F1 Score : 0.9920\n",
            "\n",
            "Epoch 34/100\n",
            "[Training]   Loss     : 0.0223, Accuracy     : 0.9924, Precision     : 0.9955, Recall     : 0.9943, F1 Score     : 0.9949\n",
            "[Validation] Val Loss : 0.0585, Val Accuracy : 0.9789, Val Precision : 0.9988, Val Recall : 0.9730, Val F1 Score : 0.9857\n",
            "\n",
            "Epoch 35/100\n",
            "[Training]   Loss     : 0.0152, Accuracy     : 0.9953, Precision     : 0.9975, Recall     : 0.9962, F1 Score     : 0.9969\n",
            "[Validation] Val Loss : 0.0286, Val Accuracy : 0.9894, Val Precision : 0.9935, Val Recall : 0.9924, Val F1 Score : 0.9930\n",
            "\n",
            "Epoch 36/100\n",
            "[Training]   Loss     : 0.0154, Accuracy     : 0.9948, Precision     : 0.9972, Recall     : 0.9958, F1 Score     : 0.9965\n",
            "[Validation] Val Loss : 0.0320, Val Accuracy : 0.9889, Val Precision : 0.9950, Val Recall : 0.9901, Val F1 Score : 0.9926\n",
            "\n",
            "Epoch 37/100\n",
            "[Training]   Loss     : 0.0176, Accuracy     : 0.9941, Precision     : 0.9962, Recall     : 0.9959, F1 Score     : 0.9961\n",
            "[Validation] Val Loss : 0.0773, Val Accuracy : 0.9734, Val Precision : 0.9996, Val Recall : 0.9650, Val F1 Score : 0.9820\n",
            "\n",
            "Epoch 38/100\n",
            "[Training]   Loss     : 0.0200, Accuracy     : 0.9929, Precision     : 0.9957, Recall     : 0.9949, F1 Score     : 0.9953\n",
            "[Validation] Val Loss : 0.0478, Val Accuracy : 0.9840, Val Precision : 0.9977, Val Recall : 0.9810, Val F1 Score : 0.9893\n",
            "\n",
            "Epoch 39/100\n",
            "[Training]   Loss     : 0.0180, Accuracy     : 0.9938, Precision     : 0.9964, Recall     : 0.9953, F1 Score     : 0.9959\n",
            "[Validation] Val Loss : 0.0335, Val Accuracy : 0.9883, Val Precision : 0.9965, Val Recall : 0.9878, Val F1 Score : 0.9922\n",
            "\n",
            "Epoch 40/100\n",
            "[Training]   Loss     : 0.0270, Accuracy     : 0.9899, Precision     : 0.9938, Recall     : 0.9927, F1 Score     : 0.9932\n",
            "[Validation] Val Loss : 0.0513, Val Accuracy : 0.9829, Val Precision : 0.9973, Val Recall : 0.9798, Val F1 Score : 0.9885\n",
            "\n",
            "Epoch 41/100\n",
            "[Training]   Loss     : 0.0180, Accuracy     : 0.9936, Precision     : 0.9967, Recall     : 0.9949, F1 Score     : 0.9958\n",
            "[Validation] Val Loss : 0.0402, Val Accuracy : 0.9860, Val Precision : 0.9965, Val Recall : 0.9848, Val F1 Score : 0.9906\n",
            "\n",
            "Epoch 42/100\n",
            "[Training]   Loss     : 0.0098, Accuracy     : 0.9973, Precision     : 0.9987, Recall     : 0.9977, F1 Score     : 0.9982\n",
            "[Validation] Val Loss : 0.0313, Val Accuracy : 0.9897, Val Precision : 0.9943, Val Recall : 0.9920, Val F1 Score : 0.9931\n",
            "\n",
            "Epoch 43/100\n",
            "[Training]   Loss     : 0.0080, Accuracy     : 0.9977, Precision     : 0.9988, Recall     : 0.9982, F1 Score     : 0.9985\n",
            "[Validation] Val Loss : 0.0332, Val Accuracy : 0.9891, Val Precision : 0.9954, Val Recall : 0.9901, Val F1 Score : 0.9927\n",
            "\n",
            "Epoch 44/100\n",
            "[Training]   Loss     : 0.0067, Accuracy     : 0.9984, Precision     : 0.9992, Recall     : 0.9986, F1 Score     : 0.9989\n",
            "[Validation] Val Loss : 0.0293, Val Accuracy : 0.9900, Val Precision : 0.9939, Val Recall : 0.9928, Val F1 Score : 0.9933\n",
            "\n",
            "Finished training\n"
          ]
        }
      ],
      "source": [
        "epochs = 100\n",
        "print('Start training\\n')\n",
        "for epoch in range(epochs): \n",
        "    epoch_loss = 0.0\n",
        "    true_positive = 0\n",
        "    true_negative = 0\n",
        "    false_positive = 0\n",
        "    false_negative = 0\n",
        "    for images, labels in train_loader:\n",
        "        optimizer.zero_grad()\n",
        "\n",
        "        images = images.to(device)\n",
        "        labels_amount = len(labels)\n",
        "        labels = labels.float()\n",
        "        labels = labels.resize_(labels_amount, 1)\n",
        "        labels = labels.to(device)\n",
        "\n",
        "        outputs = net(images)\n",
        "        loss = criterion(outputs, labels)\n",
        "\n",
        "        loss.backward()\n",
        "        optimizer.step()\n",
        "\n",
        "        batch_size = outputs.shape[0]\n",
        "        epoch_loss += loss.item()*batch_size/train_size\n",
        "        for i in range(batch_size):\n",
        "          if outputs[i][0].item()>=0.5:\n",
        "            if labels[i][0].item()>=0.5:\n",
        "              true_positive+=1\n",
        "            else:\n",
        "              false_positive+=1\n",
        "          else:\n",
        "            if labels[i][0].item()<0.5:\n",
        "              true_negative+=1\n",
        "            else:\n",
        "              false_negative+=1\n",
        "\n",
        "    with torch.no_grad():\n",
        "        val_epoch_loss = 0.0\n",
        "        val_true_positive = 0\n",
        "        val_true_negative = 0\n",
        "        val_false_positive = 0\n",
        "        val_false_negative = 0\n",
        "        for images, labels in valid_loader:\n",
        "            images = images.to(device)\n",
        "            labels_amount = len(labels)\n",
        "            labels = labels.float()\n",
        "            labels = labels.resize_(labels_amount, 1)\n",
        "            labels = labels.to(device)\n",
        "\n",
        "            outputs = net(images)\n",
        "            loss = criterion(outputs, labels)\n",
        "\n",
        "            batch_size = outputs.shape[0]\n",
        "            val_epoch_loss += loss.item()*batch_size/valid_size\n",
        "            for i in range(batch_size):\n",
        "              if outputs[i][0].item()>=0.5:\n",
        "                if labels[i][0].item()>=0.5:\n",
        "                  val_true_positive+=1\n",
        "                else:\n",
        "                  val_false_positive+=1\n",
        "              else:\n",
        "                if labels[i][0].item()<0.5:\n",
        "                  val_true_negative+=1\n",
        "                else:\n",
        "                  val_false_negative+=1\n",
        "\n",
        "\n",
        "    accuracy = (true_positive+true_negative)/(true_positive+true_negative+false_positive+false_negative)\n",
        "    precision = true_positive/(true_positive+false_positive)\n",
        "    recall = true_positive/(true_positive+false_negative)\n",
        "    f1 = 2*(recall * precision) / (recall + precision)\n",
        "\n",
        "    val_accuracy = (val_true_positive+val_true_negative)/(val_true_positive+val_true_negative+val_false_positive+val_false_negative)\n",
        "    val_precision = val_true_positive/(val_true_positive+val_false_positive)\n",
        "    val_recall = val_true_positive/(val_true_positive+val_false_negative)\n",
        "    val_f1 = 2*(val_recall * val_precision) / (val_recall + val_precision)\n",
        "\n",
        "    print(\"Epoch {}/{}\".format(epoch+1,epochs))\n",
        "    print(\"[Training]   Loss     : {:0.4f}, Accuracy     : {:0.4f}, Precision     : {:0.4f}, Recall     : {:0.4f}, F1 Score     : {:0.4f}\".format(epoch_loss,accuracy, precision,recall,f1))\n",
        "    print(\"[Validation] Val Loss : {:0.4f}, Val Accuracy : {:0.4f}, Val Precision : {:0.4f}, Val Recall : {:0.4f}, Val F1 Score : {:0.4f}\\n\".format(val_epoch_loss, val_accuracy, val_precision,val_recall,val_f1))\n",
        "    if accuracy >= 0.99:\n",
        "      if val_accuracy >= 0.99:\n",
        "        break\n",
        "print('Finished training')"
      ]
    },
    {
      "cell_type": "markdown",
      "metadata": {
        "id": "Ahk5ryfvuCea"
      },
      "source": [
        "**6. Pengujian *neural network***\n",
        "\n",
        "*Neural network* diuji dengan dataset dari `test.zip`, kemudian ditampilkan hasilnya untuk 8 gambar secara acak."
      ]
    },
    {
      "cell_type": "code",
      "execution_count": 25,
      "metadata": {
        "colab": {
          "base_uri": "https://localhost:8080/",
          "height": 609
        },
        "id": "EFsivMY965cM",
        "outputId": "170616dc-ee2c-49b6-d862-d9689e422931"
      },
      "outputs": [
        {
          "data": {
            "image/png": "[encoded data removed]",
            "text/plain": [
              "<Figure size 1152x1152 with 8 Axes>"
            ]
          },
          "metadata": {
            "needs_background": "light"
          },
          "output_type": "display_data"
        },
        {
          "name": "stdout",
          "output_type": "stream",
          "text": [
            "There's a cactus in 933ed94faf3a6edf02137a48318ecfaa.jpg\n",
            "There's a cactus in 9341144101e635fc42ce442503f1dd55.jpg\n",
            "There's no cactus in 9347f91a20aec6e8d954f012ee19d64b.jpg\n",
            "There's no cactus in 9355b6c254bc924bf3f778b0f7cdc956.jpg\n",
            "There's a cactus in 936033215debf0e86eae05c77fe7618c.jpg\n",
            "There's a cactus in 93614455ae6fd7b34c5f7522a2932cd3.jpg\n",
            "There's no cactus in 9369b33d13be62eeb2fae85df1fd06c8.jpg\n",
            "There's a cactus in 936b6a50cc8c784ca581c234d70b3ac1.jpg\n"
          ]
        }
      ],
      "source": [
        "import random\n",
        "\n",
        "nrows = 4\n",
        "ncols = 4\n",
        "\n",
        "pic_index = random.randint(0,test_size-1)\n",
        "\n",
        "fig = plt.gcf()\n",
        "fig.set_size_inches(ncols * 4, nrows * 4)\n",
        "\n",
        "train_human_names = os.listdir(test_path)\n",
        "train_human_names.sort()\n",
        "\n",
        "next_human_pix = [os.path.join(test_path, fname) \n",
        "                for fname in train_human_names[pic_index-8:pic_index]]\n",
        "\n",
        "for i, img_path in enumerate(next_human_pix):\n",
        "  sp = plt.subplot(nrows, ncols, i + 1)\n",
        "  sp.axis('Off')\n",
        "  img = mpimg.imread(img_path)\n",
        "  plt.imshow(img)\n",
        "  plt.text(-3, 35, train_human_names[i+pic_index-8])\n",
        "plt.show()\n",
        "\n",
        "with torch.no_grad():\n",
        "  result = []\n",
        "  for images, labels in test_loader:\n",
        "    images = images.to(device)\n",
        "    outputs = net(images)\n",
        "    for i in range(outputs.shape[0]):\n",
        "      result.append(outputs[i][0].item())\n",
        "  \n",
        "  for i in range(pic_index-8, pic_index):\n",
        "    if result[i]>=0.5:\n",
        "      print(\"There's a cactus in {}\".format(test_label['id'][i]))\n",
        "    else:\n",
        "      print(\"There's no cactus in {}\".format(test_label['id'][i]))"
      ]
    }
  ],
  "metadata": {
    "accelerator": "GPU",
    "colab": {
      "collapsed_sections": [],
      "name": "Salinan Untitled25.ipynb",
      "provenance": []
    },
    "kernelspec": {
      "display_name": "Python 3",
      "name": "python3"
    },
    "language_info": {
      "codemirror_mode": {
        "name": "ipython",
        "version": 3
      },
      "file_extension": ".py",
      "mimetype": "text/x-python",
      "name": "python",
      "nbconvert_exporter": "python",
      "pygments_lexer": "ipython3",
      "version": "3.9.7"
    }
  },
  "nbformat": 4,
  "nbformat_minor": 0
}
